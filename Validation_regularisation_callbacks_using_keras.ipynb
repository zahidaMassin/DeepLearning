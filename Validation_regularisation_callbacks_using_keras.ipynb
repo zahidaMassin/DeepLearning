{
 "cells": [
  {
   "cell_type": "code",
   "execution_count": 2,
   "metadata": {
    "scrolled": true
   },
   "outputs": [
    {
     "name": "stdout",
     "output_type": "stream",
     "text": [
      "2.0.0\n"
     ]
    }
   ],
   "source": [
    "import tensorflow as tf\n",
    "print(tf.__version__)"
   ]
  },
  {
   "cell_type": "markdown",
   "metadata": {},
   "source": [
    "# Validation, regularisation and callbacks"
   ]
  },
  {
   "cell_type": "markdown",
   "metadata": {},
   "source": [
    " ## Coding tutorials\n",
    " #### [1. Validation sets](#coding_tutorial_1)\n",
    " #### [2. Model regularisation](#coding_tutorial_2)\n",
    " #### [3. Introduction to callbacks](#coding_tutorial_3)\n",
    " #### [4. Early stopping / patience](#coding_tutorial_4)"
   ]
  },
  {
   "cell_type": "markdown",
   "metadata": {},
   "source": [
    "***\n",
    "<a id=\"coding_tutorial_1\"></a>\n",
    "## Validation sets"
   ]
  },
  {
   "cell_type": "markdown",
   "metadata": {},
   "source": [
    "#### Load the data"
   ]
  },
  {
   "cell_type": "code",
   "execution_count": 3,
   "metadata": {},
   "outputs": [
    {
     "name": "stdout",
     "output_type": "stream",
     "text": [
      ".. _diabetes_dataset:\n",
      "\n",
      "Diabetes dataset\n",
      "----------------\n",
      "\n",
      "Ten baseline variables, age, sex, body mass index, average blood\n",
      "pressure, and six blood serum measurements were obtained for each of n =\n",
      "442 diabetes patients, as well as the response of interest, a\n",
      "quantitative measure of disease progression one year after baseline.\n",
      "\n",
      "**Data Set Characteristics:**\n",
      "\n",
      "  :Number of Instances: 442\n",
      "\n",
      "  :Number of Attributes: First 10 columns are numeric predictive values\n",
      "\n",
      "  :Target: Column 11 is a quantitative measure of disease progression one year after baseline\n",
      "\n",
      "  :Attribute Information:\n",
      "      - Age\n",
      "      - Sex\n",
      "      - Body mass index\n",
      "      - Average blood pressure\n",
      "      - S1\n",
      "      - S2\n",
      "      - S3\n",
      "      - S4\n",
      "      - S5\n",
      "      - S6\n",
      "\n",
      "Note: Each of these 10 feature variables have been mean centered and scaled by the standard deviation times `n_samples` (i.e. the sum of squares of each column totals 1).\n",
      "\n",
      "Source URL:\n",
      "http://www4.stat.ncsu.edu/~boos/var.select/diabetes.html\n",
      "\n",
      "For more information see:\n",
      "Bradley Efron, Trevor Hastie, Iain Johnstone and Robert Tibshirani (2004) \"Least Angle Regression,\" Annals of Statistics (with discussion), 407-499.\n",
      "(http://web.stanford.edu/~hastie/Papers/LARS/LeastAngle_2002.pdf)\n"
     ]
    }
   ],
   "source": [
    "# Load the diabetes dataset\n",
    "from sklearn.datasets import load_diabetes\n",
    "\n",
    "diabetes_datasets = load_diabetes()\n",
    "print(diabetes_datasets['DESCR'])\n",
    "\n"
   ]
  },
  {
   "cell_type": "code",
   "execution_count": 4,
   "metadata": {},
   "outputs": [],
   "source": [
    "# Save the input and target variables\n",
    "#print(diabetes_datasets.keys())\n",
    "data =diabetes_datasets['data']\n",
    "targets = diabetes_datasets['target']"
   ]
  },
  {
   "cell_type": "code",
   "execution_count": 5,
   "metadata": {},
   "outputs": [
    {
     "data": {
      "text/plain": [
       "array([-1.47194752e-02, -1.00165882e+00, -1.44579915e-01,  6.99512942e-01,\n",
       "       -2.22496178e-01, -7.15965848e-01, -1.83538046e-01, -1.15749134e+00,\n",
       "       -5.47147277e-01,  2.05006151e+00, -6.64021672e-01, -1.07957508e+00,\n",
       "        3.48889755e-01,  4.26806019e-01, -4.43258925e-01,  2.45001404e-01,\n",
       "        1.80071184e-01, -1.05621783e-01, -7.15965848e-01,  2.06043272e-01,\n",
       "       -1.09256112e+00, -1.33929596e+00, -1.09256112e+00,  1.20596866e+00,\n",
       "        4.13819975e-01,  6.47568766e-01, -1.96524090e-01, -8.71798376e-01,\n",
       "       -2.74440354e-01,  1.69943833e+00, -3.00412442e-01, -1.20943552e+00,\n",
       "        2.45262887e+00, -8.45826288e-01, -1.13151925e+00, -6.51035629e-01,\n",
       "        1.46568953e+00,  1.60853602e+00,  1.29687096e+00, -8.06868156e-01,\n",
       "       -6.77007716e-01, -1.26137969e+00, -1.18346343e+00, -7.80896068e-01,\n",
       "        1.38777327e+00, -1.28735178e+00,  4.91736239e-01, -1.31593871e-01,\n",
       "       -1.00165882e+00, -1.31593871e-01,  3.72247006e-02,  9.46247777e-01,\n",
       "       -1.20943552e+00, -6.25063541e-01,  3.87847887e-01, -3.13398486e-01,\n",
       "       -1.30033783e+00, -1.49512849e+00,  2.32015360e-01,  2.32015360e-01,\n",
       "       -1.18346343e+00, -1.05621783e-01, -1.30033783e+00, -3.13398486e-01,\n",
       "       -1.05360299e+00,  1.41113052e-01, -2.77055191e-02, -7.15965848e-01,\n",
       "        1.02154920e-01,  3.35903711e-01, -1.35228200e+00,  1.53061975e+00,\n",
       "        6.47568766e-01, -5.34161233e-01, -8.71798376e-01, -1.43019827e+00,\n",
       "        2.32015360e-01,  6.21596678e-01,  1.29687096e+00, -5.08189145e-01,\n",
       "       -1.18607827e-01, -1.31332387e+00, -1.30033783e+00,  7.51457118e-01,\n",
       "       -1.13151925e+00, -1.44579915e-01, -1.26137969e+00, -2.35482222e-01,\n",
       "       -1.43019827e+00, -5.34161233e-01, -7.02979804e-01,  1.54099096e-01,\n",
       "       -1.35228200e+00, -7.28951892e-01, -8.06868156e-01,  1.28127008e-01,\n",
       "       -2.77055191e-02,  1.64749415e+00, -7.80896068e-01, -8.97770464e-01,\n",
       "       -3.13398486e-01, -6.51035629e-01,  1.94617316e+00,  5.95624590e-01,\n",
       "       -7.41937936e-01, -1.28735178e+00, -2.35482222e-01, -1.05621783e-01,\n",
       "        1.03715008e+00, -9.23742551e-01, -6.25063541e-01, -1.20943552e+00,\n",
       "        1.21895470e+00,  1.88124294e+00,  1.37478723e+00,  9.98191953e-01,\n",
       "        1.59554997e+00,  1.67346624e+00,  3.48889755e-01,  6.21596678e-01,\n",
       "        6.21596678e-01,  2.70973492e-01,  3.61875799e-01, -8.84784420e-01,\n",
       "       -4.04300794e-01,  1.15140964e-01, -6.89993760e-01, -5.60133321e-01,\n",
       "       -4.82217057e-01,  1.50464767e+00,  1.58256393e+00,  7.61828325e-02,\n",
       "       -5.86105409e-01, -8.97770464e-01, -6.38049585e-01,  1.55659184e+00,\n",
       "       -8.71798376e-01,  1.66048019e+00,  2.38769865e+00,  1.67346624e+00,\n",
       "       -4.43258925e-01,  2.14096382e+00,  1.07610822e+00, -1.19644947e+00,\n",
       "        2.83959536e-01,  1.38777327e+00,  3.35903711e-01, -3.13398486e-01,\n",
       "       -7.28951892e-01, -3.39370574e-01,  1.76436855e+00, -8.32840244e-01,\n",
       "        1.81631272e+00, -1.05360299e+00,  5.82638546e-01,  4.39792063e-01,\n",
       "       -1.65096101e+00, -8.84784420e-01, -7.28951892e-01,  5.56666458e-01,\n",
       "       -1.28735178e+00,  8.42359425e-01,  2.57987448e-01, -2.74440354e-01,\n",
       "        8.03401293e-01, -1.20943552e+00, -1.06658903e+00,  8.81317557e-01,\n",
       "        1.50464767e+00, -1.73343121e-03, -1.36526805e+00, -1.01464486e+00,\n",
       "        1.85527085e+00, -6.64021672e-01, -1.47194752e-02, -3.26384530e-01,\n",
       "        1.10208030e+00,  9.46247777e-01, -9.23742551e-01, -1.47194752e-02,\n",
       "       -5.86105409e-01, -1.14450530e+00, -1.83538046e-01,  4.26806019e-01,\n",
       "        1.46568953e+00, -6.64021672e-01, -1.96524090e-01, -1.18607827e-01,\n",
       "       -1.44579915e-01, -9.49714639e-01,  1.81631272e+00,  3.35903711e-01,\n",
       "       -7.93882112e-01, -4.69231013e-01, -8.58812332e-01, -3.91314750e-01,\n",
       "       -1.04061695e+00, -3.00412442e-01, -1.31593871e-01, -8.06868156e-01,\n",
       "        7.61828325e-02, -1.46915640e+00,  5.69652502e-01,  9.07289645e-01,\n",
       "        1.62152206e+00, -6.89993760e-01,  5.69652502e-01,  6.47568766e-01,\n",
       "        3.72247006e-02, -9.75686727e-01,  5.04722283e-01, -1.06658903e+00,\n",
       "       -1.02763090e+00, -1.33929596e+00, -1.13151925e+00,  1.43971745e+00,\n",
       "        1.24492679e+00,  1.86825690e+00,  8.03401293e-01,  4.26806019e-01,\n",
       "       -9.62700683e-01, -7.67910024e-01,  1.29687096e+00, -2.77055191e-02,\n",
       "       -9.75686727e-01,  7.25485030e-01, -9.75686727e-01, -5.73119365e-01,\n",
       "        1.02154920e-01, -1.28735178e+00,  8.81317557e-01,  2.42386567e-02,\n",
       "        1.38777327e+00, -8.06868156e-01,  1.21895470e+00, -3.65342662e-01,\n",
       "       -1.10554717e+00, -1.04061695e+00,  1.36180118e+00,  1.42673140e+00,\n",
       "        1.59554997e+00,  3.22917667e-01, -1.05360299e+00, -1.36526805e+00,\n",
       "        4.52778107e-01, -3.52356618e-01, -9.62700683e-01, -1.31332387e+00,\n",
       "        1.37478723e+00,  8.16387337e-01,  1.95915920e+00,  1.17999657e+00,\n",
       "       -7.93882112e-01, -2.77055191e-02,  2.05006151e+00,  1.12526127e-02,\n",
       "        2.51755909e+00, -1.15749134e+00, -8.19854200e-01, -1.32630991e+00,\n",
       "       -1.46915640e+00, -6.38049585e-01,  2.02408942e+00, -4.69231013e-01,\n",
       "       -9.26357388e-02, -1.01464486e+00, -1.39124013e+00, -4.82217057e-01,\n",
       "        1.45270349e+00, -8.45826288e-01,  6.47568766e-01, -3.26384530e-01,\n",
       "        3.87847887e-01,  1.15402448e+00, -1.11853321e+00, -7.54923980e-01,\n",
       "        1.69943833e+00, -1.14450530e+00, -6.51035629e-01,  6.21596678e-01,\n",
       "        1.46568953e+00, -7.54923980e-01,  1.01117800e+00,  3.74861843e-01,\n",
       "        5.02107446e-02,  1.05013613e+00, -1.19644947e+00,  8.68331513e-01,\n",
       "       -9.36728595e-01, -1.09256112e+00,  2.33575448e+00,  1.24492679e+00,\n",
       "       -8.84784420e-01,  6.21596678e-01, -1.26137969e+00, -8.71798376e-01,\n",
       "       -8.19854200e-01, -1.57304475e+00, -3.00412442e-01, -8.97770464e-01,\n",
       "        1.59554997e+00, -1.13151925e+00,  5.95624590e-01,  1.08909426e+00,\n",
       "        1.30985701e+00, -3.65342662e-01, -1.40422618e+00,  2.57987448e-01,\n",
       "       -4.95203101e-01, -1.31593871e-01, -5.60133321e-01,  3.61875799e-01,\n",
       "       -1.05621783e-01,  1.41113052e-01, -6.66636509e-02, -7.15965848e-01,\n",
       "        8.81317557e-01,  4.91736239e-01, -5.60133321e-01,  5.04722283e-01,\n",
       "       -3.91314750e-01,  1.01117800e+00,  1.16701052e+00,  1.24492679e+00,\n",
       "        1.25791283e+00,  5.17708327e-01, -2.74440354e-01,  1.10208030e+00,\n",
       "       -9.62700683e-01, -2.22496178e-01,  1.19298261e+00,  6.08610634e-01,\n",
       "        1.53061975e+00,  1.54099096e-01, -1.04061695e+00, -7.28951892e-01,\n",
       "        1.99811734e+00, -7.93882112e-01,  8.03401293e-01, -7.41937936e-01,\n",
       "        8.29373381e-01,  1.43971745e+00,  3.35903711e-01, -5.08189145e-01,\n",
       "        6.21596678e-01, -1.70552003e-01, -1.70552003e-01, -8.32840244e-01,\n",
       "       -5.36776070e-02, -8.32840244e-01,  1.17999657e+00, -1.05360299e+00,\n",
       "       -9.75686727e-01, -5.60133321e-01,  1.55659184e+00, -1.19644947e+00,\n",
       "       -1.27436574e+00,  8.94303601e-01, -8.06868156e-01,  2.06304756e+00,\n",
       "        1.67346624e+00,  3.87847887e-01,  2.19290800e+00, -1.22242156e+00,\n",
       "        1.42673140e+00,  6.99512942e-01,  1.05013613e+00,  1.16701052e+00,\n",
       "       -3.78328706e-01,  1.93057228e-01, -1.15749134e+00,  5.82638546e-01,\n",
       "       -1.05360299e+00,  2.06043272e-01, -1.57565959e-01,  8.42359425e-01,\n",
       "       -4.04300794e-01,  1.07610822e+00,  1.20596866e+00, -1.45617035e+00,\n",
       "       -1.30033783e+00, -6.25063541e-01, -2.61454310e-01, -8.32840244e-01,\n",
       "       -1.07957508e+00,  8.68331513e-01, -1.04061695e+00,  6.34582722e-01,\n",
       "       -5.47147277e-01, -1.31332387e+00,  1.62152206e+00, -1.15749134e+00,\n",
       "       -4.43258925e-01, -1.07957508e+00,  1.56957789e+00,  1.37478723e+00,\n",
       "       -1.41721222e+00,  5.95624590e-01,  1.16701052e+00,  1.03715008e+00,\n",
       "        2.96945580e-01, -7.67910024e-01,  2.06043272e-01,  1.59554997e+00,\n",
       "        1.82929877e+00,  1.67346624e+00, -1.04061695e+00, -1.57565959e-01,\n",
       "        4.78750195e-01,  3.74861843e-01,  7.38471074e-01, -2.09510134e-01,\n",
       "        1.41374536e+00, -5.08189145e-01, -2.74440354e-01,  2.83959536e-01,\n",
       "        1.36180118e+00, -1.26137969e+00, -8.84784420e-01, -1.43019827e+00,\n",
       "       -7.96496949e-02,  7.77429206e-01,  1.05013613e+00, -7.93882112e-01,\n",
       "       -5.34161233e-01, -1.73343121e-03, -4.17286837e-01, -1.10554717e+00,\n",
       "        2.05006151e+00, -7.54923980e-01,  4.00833931e-01, -1.11853321e+00,\n",
       "        2.70973492e-01, -1.04061695e+00, -1.33929596e+00, -1.14450530e+00,\n",
       "       -1.35228200e+00,  3.35903711e-01, -6.25063541e-01, -2.61454310e-01,\n",
       "        8.81317557e-01, -1.23540761e+00])"
      ]
     },
     "execution_count": 5,
     "metadata": {},
     "output_type": "execute_result"
    }
   ],
   "source": [
    "# Normalise the target data (this will make clearer training curves)\n",
    "targets = (targets - targets.mean(axis=0))/targets.std()\n",
    "\n",
    "targets\n"
   ]
  },
  {
   "cell_type": "code",
   "execution_count": 6,
   "metadata": {},
   "outputs": [
    {
     "name": "stdout",
     "output_type": "stream",
     "text": [
      "(397, 10)\n",
      "(45, 10)\n"
     ]
    }
   ],
   "source": [
    "# Split the data into train and test sets\n",
    "from sklearn.model_selection import train_test_split\n",
    "\n",
    "train_data, test_data, train_targets, test_targets = train_test_split(data, targets, test_size=0.1)\n",
    "\n",
    "print(train_data.shape)\n",
    "print(test_data.shape)\n"
   ]
  },
  {
   "cell_type": "markdown",
   "metadata": {},
   "source": [
    "#### Train a feedforward neural network model"
   ]
  },
  {
   "cell_type": "code",
   "execution_count": 7,
   "metadata": {},
   "outputs": [],
   "source": [
    "# Build the model\n",
    "from tensorflow.keras.models import Sequential\n",
    "from tensorflow.keras.layers import Dense\n",
    "\n",
    "def get_model():\n",
    "    \n",
    "    model = Sequential([\n",
    "        Dense(128, activation='relu', input_shape=(train_data.shape[1],)),\n",
    "        Dense(128, activation='relu'),\n",
    "        Dense(128, activation='relu'),\n",
    "        Dense(128, activation='relu'),\n",
    "        Dense(128, activation='relu'),\n",
    "        Dense(128, activation='relu'),\n",
    "        Dense(1)\n",
    "    ])\n",
    "    \n",
    "    return model\n",
    "model = get_model()"
   ]
  },
  {
   "cell_type": "code",
   "execution_count": 8,
   "metadata": {},
   "outputs": [
    {
     "name": "stdout",
     "output_type": "stream",
     "text": [
      "Model: \"sequential\"\n",
      "_________________________________________________________________\n",
      "Layer (type)                 Output Shape              Param #   \n",
      "=================================================================\n",
      "dense (Dense)                (None, 128)               1408      \n",
      "_________________________________________________________________\n",
      "dense_1 (Dense)              (None, 128)               16512     \n",
      "_________________________________________________________________\n",
      "dense_2 (Dense)              (None, 128)               16512     \n",
      "_________________________________________________________________\n",
      "dense_3 (Dense)              (None, 128)               16512     \n",
      "_________________________________________________________________\n",
      "dense_4 (Dense)              (None, 128)               16512     \n",
      "_________________________________________________________________\n",
      "dense_5 (Dense)              (None, 128)               16512     \n",
      "_________________________________________________________________\n",
      "dense_6 (Dense)              (None, 1)                 129       \n",
      "=================================================================\n",
      "Total params: 84,097\n",
      "Trainable params: 84,097\n",
      "Non-trainable params: 0\n",
      "_________________________________________________________________\n"
     ]
    }
   ],
   "source": [
    "# Print the model summary\n",
    "model.summary()\n"
   ]
  },
  {
   "cell_type": "code",
   "execution_count": 9,
   "metadata": {},
   "outputs": [],
   "source": [
    "# Compile the model\n",
    "\n",
    "model.compile(optimizer='adam',loss='mse',metrics=['mae'])"
   ]
  },
  {
   "cell_type": "code",
   "execution_count": 10,
   "metadata": {},
   "outputs": [
    {
     "name": "stdout",
     "output_type": "stream",
     "text": [
      "Train on 337 samples, validate on 60 samples\n",
      "Epoch 1/100\n",
      "337/337 - 1s - loss: 0.9438 - mae: 0.8328 - val_loss: 0.9181 - val_mae: 0.8079\n",
      "Epoch 2/100\n",
      "337/337 - 0s - loss: 0.8566 - mae: 0.7933 - val_loss: 0.7180 - val_mae: 0.7175\n",
      "Epoch 3/100\n",
      "337/337 - 0s - loss: 0.6646 - mae: 0.6953 - val_loss: 0.4652 - val_mae: 0.5479\n",
      "Epoch 4/100\n",
      "337/337 - 0s - loss: 0.5561 - mae: 0.6021 - val_loss: 0.4362 - val_mae: 0.5394\n",
      "Epoch 5/100\n",
      "337/337 - 0s - loss: 0.4955 - mae: 0.5662 - val_loss: 0.4106 - val_mae: 0.5366\n",
      "Epoch 6/100\n",
      "337/337 - 0s - loss: 0.4945 - mae: 0.5668 - val_loss: 0.3723 - val_mae: 0.4894\n",
      "Epoch 7/100\n",
      "337/337 - 0s - loss: 0.4811 - mae: 0.5520 - val_loss: 0.3605 - val_mae: 0.4728\n",
      "Epoch 8/100\n",
      "337/337 - 0s - loss: 0.4803 - mae: 0.5456 - val_loss: 0.3652 - val_mae: 0.4987\n",
      "Epoch 9/100\n",
      "337/337 - 0s - loss: 0.4883 - mae: 0.5780 - val_loss: 0.3717 - val_mae: 0.5015\n",
      "Epoch 10/100\n",
      "337/337 - 0s - loss: 0.4549 - mae: 0.5469 - val_loss: 0.3676 - val_mae: 0.4911\n",
      "Epoch 11/100\n",
      "337/337 - 0s - loss: 0.4699 - mae: 0.5467 - val_loss: 0.3843 - val_mae: 0.4851\n",
      "Epoch 12/100\n",
      "337/337 - 0s - loss: 0.4599 - mae: 0.5343 - val_loss: 0.3964 - val_mae: 0.5051\n",
      "Epoch 13/100\n",
      "337/337 - 0s - loss: 0.4666 - mae: 0.5474 - val_loss: 0.3617 - val_mae: 0.4831\n",
      "Epoch 14/100\n",
      "337/337 - 0s - loss: 0.4381 - mae: 0.5314 - val_loss: 0.3559 - val_mae: 0.4768\n",
      "Epoch 15/100\n",
      "337/337 - 0s - loss: 0.4342 - mae: 0.5229 - val_loss: 0.3583 - val_mae: 0.4732\n",
      "Epoch 16/100\n",
      "337/337 - 0s - loss: 0.4157 - mae: 0.5139 - val_loss: 0.3579 - val_mae: 0.4731\n",
      "Epoch 17/100\n",
      "337/337 - 0s - loss: 0.4091 - mae: 0.5083 - val_loss: 0.3478 - val_mae: 0.4648\n",
      "Epoch 18/100\n",
      "337/337 - 0s - loss: 0.4051 - mae: 0.5036 - val_loss: 0.3506 - val_mae: 0.4644\n",
      "Epoch 19/100\n",
      "337/337 - 0s - loss: 0.3951 - mae: 0.4953 - val_loss: 0.3564 - val_mae: 0.4674\n",
      "Epoch 20/100\n",
      "337/337 - 0s - loss: 0.3852 - mae: 0.4895 - val_loss: 0.3507 - val_mae: 0.4650\n",
      "Epoch 21/100\n",
      "337/337 - 0s - loss: 0.3823 - mae: 0.4915 - val_loss: 0.3574 - val_mae: 0.4673\n",
      "Epoch 22/100\n",
      "337/337 - 0s - loss: 0.3714 - mae: 0.4825 - val_loss: 0.3844 - val_mae: 0.4820\n",
      "Epoch 23/100\n",
      "337/337 - 0s - loss: 0.3663 - mae: 0.4836 - val_loss: 0.4273 - val_mae: 0.5112\n",
      "Epoch 24/100\n",
      "337/337 - 0s - loss: 0.3937 - mae: 0.5002 - val_loss: 0.3745 - val_mae: 0.4755\n",
      "Epoch 25/100\n",
      "337/337 - 0s - loss: 0.3506 - mae: 0.4672 - val_loss: 0.3795 - val_mae: 0.4737\n",
      "Epoch 26/100\n",
      "337/337 - 0s - loss: 0.3625 - mae: 0.4745 - val_loss: 0.3847 - val_mae: 0.4782\n",
      "Epoch 27/100\n",
      "337/337 - 0s - loss: 0.3343 - mae: 0.4548 - val_loss: 0.3910 - val_mae: 0.4770\n",
      "Epoch 28/100\n",
      "337/337 - 0s - loss: 0.3186 - mae: 0.4408 - val_loss: 0.3934 - val_mae: 0.4880\n",
      "Epoch 29/100\n",
      "337/337 - 0s - loss: 0.3191 - mae: 0.4421 - val_loss: 0.4122 - val_mae: 0.4873\n",
      "Epoch 30/100\n",
      "337/337 - 0s - loss: 0.3275 - mae: 0.4467 - val_loss: 0.4201 - val_mae: 0.4896\n",
      "Epoch 31/100\n",
      "337/337 - 0s - loss: 0.3092 - mae: 0.4349 - val_loss: 0.3966 - val_mae: 0.4741\n",
      "Epoch 32/100\n",
      "337/337 - 0s - loss: 0.3021 - mae: 0.4304 - val_loss: 0.4363 - val_mae: 0.5153\n",
      "Epoch 33/100\n",
      "337/337 - 0s - loss: 0.3036 - mae: 0.4363 - val_loss: 0.4035 - val_mae: 0.4763\n",
      "Epoch 34/100\n",
      "337/337 - 0s - loss: 0.2794 - mae: 0.4118 - val_loss: 0.4651 - val_mae: 0.5076\n",
      "Epoch 35/100\n",
      "337/337 - 0s - loss: 0.2897 - mae: 0.4198 - val_loss: 0.4117 - val_mae: 0.4748\n",
      "Epoch 36/100\n",
      "337/337 - 0s - loss: 0.2536 - mae: 0.3894 - val_loss: 0.4653 - val_mae: 0.5102\n",
      "Epoch 37/100\n",
      "337/337 - 0s - loss: 0.2418 - mae: 0.3788 - val_loss: 0.4972 - val_mae: 0.5434\n",
      "Epoch 38/100\n",
      "337/337 - 0s - loss: 0.2650 - mae: 0.3960 - val_loss: 0.4841 - val_mae: 0.5246\n",
      "Epoch 39/100\n",
      "337/337 - 0s - loss: 0.2246 - mae: 0.3636 - val_loss: 0.4577 - val_mae: 0.5020\n",
      "Epoch 40/100\n",
      "337/337 - 0s - loss: 0.2203 - mae: 0.3610 - val_loss: 0.4880 - val_mae: 0.5263\n",
      "Epoch 41/100\n",
      "337/337 - 0s - loss: 0.2168 - mae: 0.3543 - val_loss: 0.4978 - val_mae: 0.5278\n",
      "Epoch 42/100\n",
      "337/337 - 0s - loss: 0.2142 - mae: 0.3591 - val_loss: 0.4874 - val_mae: 0.5051\n",
      "Epoch 43/100\n",
      "337/337 - 0s - loss: 0.1980 - mae: 0.3433 - val_loss: 0.5084 - val_mae: 0.5390\n",
      "Epoch 44/100\n",
      "337/337 - 0s - loss: 0.2417 - mae: 0.3809 - val_loss: 0.4908 - val_mae: 0.5268\n",
      "Epoch 45/100\n",
      "337/337 - 0s - loss: 0.1798 - mae: 0.3325 - val_loss: 0.5453 - val_mae: 0.5641\n",
      "Epoch 46/100\n",
      "337/337 - 0s - loss: 0.2235 - mae: 0.3754 - val_loss: 0.4878 - val_mae: 0.5312\n",
      "Epoch 47/100\n",
      "337/337 - 0s - loss: 0.2101 - mae: 0.3573 - val_loss: 0.5341 - val_mae: 0.5440\n",
      "Epoch 48/100\n",
      "337/337 - 0s - loss: 0.2123 - mae: 0.3585 - val_loss: 0.4688 - val_mae: 0.5284\n",
      "Epoch 49/100\n",
      "337/337 - 0s - loss: 0.2093 - mae: 0.3532 - val_loss: 0.5147 - val_mae: 0.5223\n",
      "Epoch 50/100\n",
      "337/337 - 0s - loss: 0.2007 - mae: 0.3410 - val_loss: 0.4904 - val_mae: 0.5298\n",
      "Epoch 51/100\n",
      "337/337 - 0s - loss: 0.1806 - mae: 0.3319 - val_loss: 0.5379 - val_mae: 0.5475\n",
      "Epoch 52/100\n",
      "337/337 - 0s - loss: 0.1593 - mae: 0.3006 - val_loss: 0.5728 - val_mae: 0.5475\n",
      "Epoch 53/100\n",
      "337/337 - 0s - loss: 0.1715 - mae: 0.3238 - val_loss: 0.7032 - val_mae: 0.6399\n",
      "Epoch 54/100\n",
      "337/337 - 0s - loss: 0.2180 - mae: 0.3716 - val_loss: 0.5240 - val_mae: 0.5294\n",
      "Epoch 55/100\n",
      "337/337 - 0s - loss: 0.1606 - mae: 0.3109 - val_loss: 0.5841 - val_mae: 0.5697\n",
      "Epoch 56/100\n",
      "337/337 - 0s - loss: 0.1592 - mae: 0.3042 - val_loss: 0.5805 - val_mae: 0.5680\n",
      "Epoch 57/100\n",
      "337/337 - 0s - loss: 0.1549 - mae: 0.3078 - val_loss: 0.6226 - val_mae: 0.5641\n",
      "Epoch 58/100\n",
      "337/337 - 0s - loss: 0.1392 - mae: 0.2889 - val_loss: 0.5409 - val_mae: 0.5560\n",
      "Epoch 59/100\n",
      "337/337 - 0s - loss: 0.1391 - mae: 0.2948 - val_loss: 0.5596 - val_mae: 0.5611\n",
      "Epoch 60/100\n",
      "337/337 - 0s - loss: 0.1353 - mae: 0.2822 - val_loss: 0.5847 - val_mae: 0.5738\n",
      "Epoch 61/100\n",
      "337/337 - 0s - loss: 0.1288 - mae: 0.2808 - val_loss: 0.5760 - val_mae: 0.5684\n",
      "Epoch 62/100\n",
      "337/337 - 0s - loss: 0.1143 - mae: 0.2585 - val_loss: 0.5859 - val_mae: 0.5773\n",
      "Epoch 63/100\n",
      "337/337 - 0s - loss: 0.1114 - mae: 0.2560 - val_loss: 0.5728 - val_mae: 0.5522\n",
      "Epoch 64/100\n",
      "337/337 - 0s - loss: 0.0918 - mae: 0.2283 - val_loss: 0.6310 - val_mae: 0.5911\n",
      "Epoch 65/100\n",
      "337/337 - 0s - loss: 0.1117 - mae: 0.2567 - val_loss: 0.6462 - val_mae: 0.5914\n",
      "Epoch 66/100\n",
      "337/337 - 0s - loss: 0.1067 - mae: 0.2491 - val_loss: 0.6318 - val_mae: 0.5807\n",
      "Epoch 67/100\n",
      "337/337 - 0s - loss: 0.1008 - mae: 0.2451 - val_loss: 0.5775 - val_mae: 0.5384\n",
      "Epoch 68/100\n",
      "337/337 - 0s - loss: 0.0836 - mae: 0.2217 - val_loss: 0.6336 - val_mae: 0.5772\n",
      "Epoch 69/100\n",
      "337/337 - 0s - loss: 0.0843 - mae: 0.2148 - val_loss: 0.6386 - val_mae: 0.5674\n",
      "Epoch 70/100\n",
      "337/337 - 0s - loss: 0.0809 - mae: 0.2164 - val_loss: 0.6104 - val_mae: 0.5783\n",
      "Epoch 71/100\n",
      "337/337 - 0s - loss: 0.0908 - mae: 0.2272 - val_loss: 0.5713 - val_mae: 0.5322\n",
      "Epoch 72/100\n",
      "337/337 - 0s - loss: 0.0819 - mae: 0.2186 - val_loss: 0.6042 - val_mae: 0.5612\n",
      "Epoch 73/100\n",
      "337/337 - 0s - loss: 0.0747 - mae: 0.2013 - val_loss: 0.6137 - val_mae: 0.5615\n",
      "Epoch 74/100\n",
      "337/337 - 0s - loss: 0.0639 - mae: 0.1893 - val_loss: 0.6243 - val_mae: 0.5799\n",
      "Epoch 75/100\n",
      "337/337 - 0s - loss: 0.0686 - mae: 0.1981 - val_loss: 0.5681 - val_mae: 0.5391\n",
      "Epoch 76/100\n",
      "337/337 - 0s - loss: 0.0593 - mae: 0.1785 - val_loss: 0.6316 - val_mae: 0.5753\n",
      "Epoch 77/100\n",
      "337/337 - 0s - loss: 0.0604 - mae: 0.1825 - val_loss: 0.6170 - val_mae: 0.5721\n",
      "Epoch 78/100\n",
      "337/337 - 0s - loss: 0.0660 - mae: 0.1969 - val_loss: 0.6454 - val_mae: 0.6173\n",
      "Epoch 79/100\n",
      "337/337 - 0s - loss: 0.0955 - mae: 0.2437 - val_loss: 0.6299 - val_mae: 0.5676\n",
      "Epoch 80/100\n",
      "337/337 - 0s - loss: 0.1139 - mae: 0.2716 - val_loss: 0.7744 - val_mae: 0.6684\n",
      "Epoch 81/100\n",
      "337/337 - 0s - loss: 0.1569 - mae: 0.3202 - val_loss: 0.5928 - val_mae: 0.5737\n",
      "Epoch 82/100\n",
      "337/337 - 0s - loss: 0.0944 - mae: 0.2398 - val_loss: 0.6217 - val_mae: 0.5696\n",
      "Epoch 83/100\n",
      "337/337 - 0s - loss: 0.1107 - mae: 0.2646 - val_loss: 0.6535 - val_mae: 0.5936\n",
      "Epoch 84/100\n",
      "337/337 - 0s - loss: 0.1635 - mae: 0.3323 - val_loss: 0.6188 - val_mae: 0.5638\n",
      "Epoch 85/100\n",
      "337/337 - 0s - loss: 0.1038 - mae: 0.2579 - val_loss: 0.5464 - val_mae: 0.5429\n",
      "Epoch 86/100\n",
      "337/337 - 0s - loss: 0.0856 - mae: 0.2282 - val_loss: 0.6008 - val_mae: 0.5768\n",
      "Epoch 87/100\n",
      "337/337 - 0s - loss: 0.1061 - mae: 0.2573 - val_loss: 0.6080 - val_mae: 0.5660\n",
      "Epoch 88/100\n",
      "337/337 - 0s - loss: 0.0659 - mae: 0.1882 - val_loss: 0.6505 - val_mae: 0.5731\n",
      "Epoch 89/100\n",
      "337/337 - 0s - loss: 0.0608 - mae: 0.1809 - val_loss: 0.6141 - val_mae: 0.5644\n",
      "Epoch 90/100\n",
      "337/337 - 0s - loss: 0.0512 - mae: 0.1661 - val_loss: 0.6345 - val_mae: 0.5834\n",
      "Epoch 91/100\n",
      "337/337 - 0s - loss: 0.0482 - mae: 0.1587 - val_loss: 0.6403 - val_mae: 0.5807\n",
      "Epoch 92/100\n",
      "337/337 - 0s - loss: 0.0467 - mae: 0.1486 - val_loss: 0.6215 - val_mae: 0.5612\n",
      "Epoch 93/100\n",
      "337/337 - 0s - loss: 0.0514 - mae: 0.1692 - val_loss: 0.6203 - val_mae: 0.5686\n",
      "Epoch 94/100\n",
      "337/337 - 0s - loss: 0.0471 - mae: 0.1547 - val_loss: 0.6130 - val_mae: 0.5723\n",
      "Epoch 95/100\n",
      "337/337 - 0s - loss: 0.0537 - mae: 0.1750 - val_loss: 0.6337 - val_mae: 0.5765\n",
      "Epoch 96/100\n",
      "337/337 - 0s - loss: 0.0464 - mae: 0.1567 - val_loss: 0.6179 - val_mae: 0.5633\n",
      "Epoch 97/100\n",
      "337/337 - 0s - loss: 0.0458 - mae: 0.1533 - val_loss: 0.6206 - val_mae: 0.5862\n",
      "Epoch 98/100\n",
      "337/337 - 0s - loss: 0.0398 - mae: 0.1436 - val_loss: 0.6118 - val_mae: 0.5695\n",
      "Epoch 99/100\n",
      "337/337 - 0s - loss: 0.0479 - mae: 0.1561 - val_loss: 0.6339 - val_mae: 0.5869\n",
      "Epoch 100/100\n",
      "337/337 - 0s - loss: 0.0449 - mae: 0.1523 - val_loss: 0.6193 - val_mae: 0.5694\n"
     ]
    }
   ],
   "source": [
    "# Train the model, with some of the data reserved for validation\n",
    "history = model.fit(train_data,train_targets,epochs=100,validation_split=0.15,batch_size=64,verbose=2)"
   ]
  },
  {
   "cell_type": "code",
   "execution_count": 11,
   "metadata": {},
   "outputs": [
    {
     "name": "stdout",
     "output_type": "stream",
     "text": [
      "45/1 - 0s - loss: 1.5562 - mae: 0.8565\n"
     ]
    },
    {
     "data": {
      "text/plain": [
       "[1.4257716443803576, 0.8565344]"
      ]
     },
     "execution_count": 11,
     "metadata": {},
     "output_type": "execute_result"
    }
   ],
   "source": [
    "# Evaluate the model on the test set\n",
    "\n",
    "model.evaluate(test_data, test_targets,verbose=2)"
   ]
  },
  {
   "cell_type": "markdown",
   "metadata": {},
   "source": [
    "#### Plot the learning curves"
   ]
  },
  {
   "cell_type": "code",
   "execution_count": 12,
   "metadata": {},
   "outputs": [],
   "source": [
    "import matplotlib.pyplot as plt\n",
    "%matplotlib inline"
   ]
  },
  {
   "cell_type": "code",
   "execution_count": 13,
   "metadata": {},
   "outputs": [
    {
     "data": {
      "image/png": "[encoded data removed]",
      "text/plain": [
       "<Figure size 432x288 with 1 Axes>"
      ]
     },
     "metadata": {
      "needs_background": "light"
     },
     "output_type": "display_data"
    }
   ],
   "source": [
    "# Plot the training and validation loss\n",
    "\n",
    "plt.plot(history.history['loss'])\n",
    "plt.plot(history.history['val_loss'])\n",
    "plt.title('Loss vs. epochs')\n",
    "plt.ylabel('Loss')\n",
    "plt.xlabel('Epoch')\n",
    "plt.legend(['Training', 'Validation'], loc='upper right')\n",
    "plt.show()"
   ]
  },
  {
   "cell_type": "markdown",
   "metadata": {},
   "source": [
    "***\n",
    "<a id=\"coding_tutorial_2\"></a>\n",
    "## Model regularisation"
   ]
  },
  {
   "cell_type": "markdown",
   "metadata": {},
   "source": [
    "#### Adding regularisation with weight decay and dropout"
   ]
  },
  {
   "cell_type": "code",
   "execution_count": 14,
   "metadata": {},
   "outputs": [],
   "source": [
    "from tensorflow.keras.layers import Dropout\n",
    "from tensorflow.keras import regularizers"
   ]
  },
  {
   "cell_type": "code",
   "execution_count": 21,
   "metadata": {},
   "outputs": [],
   "source": [
    "def get_regularised_model(wd, rate):\n",
    "    model = Sequential([\n",
    "        Dense(128,kernel_regularizer=regularizers.l2(wd), activation=\"relu\", input_shape=(train_data.shape[1],)),\n",
    "        Dropout(rate),\n",
    "        Dense(128,kernel_regularizer=regularizers.l2(wd), activation=\"relu\"),\n",
    "        Dropout(rate),\n",
    "        Dense(128,kernel_regularizer=regularizers.l2(wd), activation=\"relu\"),\n",
    "        Dropout(rate),\n",
    "        Dense(128,kernel_regularizer=regularizers.l2(wd), activation=\"relu\"),\n",
    "        Dropout(rate),\n",
    "        Dense(128,kernel_regularizer=regularizers.l2(wd), activation=\"relu\"),\n",
    "        Dropout(rate),\n",
    "        Dense(128,kernel_regularizer=regularizers.l2(wd), activation=\"relu\"),\n",
    "        Dropout(rate),\n",
    "        Dense(1)\n",
    "    ])\n",
    "    return model"
   ]
  },
  {
   "cell_type": "code",
   "execution_count": 16,
   "metadata": {},
   "outputs": [],
   "source": [
    "# Re-build the model with weight decay and dropout layers\n",
    "\n",
    "model=get_regularised_model(1e-5, 0.3)"
   ]
  },
  {
   "cell_type": "code",
   "execution_count": 17,
   "metadata": {},
   "outputs": [],
   "source": [
    "# Compile the model\n",
    "model.compile(optimizer=\"adam\", loss='mse', metrics=[\"mae\"])"
   ]
  },
  {
   "cell_type": "code",
   "execution_count": 18,
   "metadata": {},
   "outputs": [
    {
     "name": "stdout",
     "output_type": "stream",
     "text": [
      "Train on 337 samples, validate on 60 samples\n",
      "Epoch 1/100\n",
      "337/337 - 2s - loss: 1.0146 - mae: 0.8552 - val_loss: 0.9788 - val_mae: 0.8371\n",
      "Epoch 2/100\n",
      "337/337 - 0s - loss: 1.0002 - mae: 0.8503 - val_loss: 0.9470 - val_mae: 0.8233\n",
      "Epoch 3/100\n",
      "337/337 - 0s - loss: 0.9745 - mae: 0.8425 - val_loss: 0.8582 - val_mae: 0.7856\n",
      "Epoch 4/100\n",
      "337/337 - 0s - loss: 0.8654 - mae: 0.7995 - val_loss: 0.7002 - val_mae: 0.7102\n",
      "Epoch 5/100\n",
      "337/337 - 0s - loss: 0.7644 - mae: 0.7484 - val_loss: 0.5507 - val_mae: 0.6258\n",
      "Epoch 6/100\n",
      "337/337 - 0s - loss: 0.6333 - mae: 0.6575 - val_loss: 0.4816 - val_mae: 0.5626\n",
      "Epoch 7/100\n",
      "337/337 - 0s - loss: 0.6290 - mae: 0.6446 - val_loss: 0.4844 - val_mae: 0.5542\n",
      "Epoch 8/100\n",
      "337/337 - 0s - loss: 0.6045 - mae: 0.6216 - val_loss: 0.5150 - val_mae: 0.5466\n",
      "Epoch 9/100\n",
      "337/337 - 0s - loss: 0.5938 - mae: 0.6186 - val_loss: 0.4753 - val_mae: 0.5541\n",
      "Epoch 10/100\n",
      "337/337 - 0s - loss: 0.5401 - mae: 0.6034 - val_loss: 0.4614 - val_mae: 0.5344\n",
      "Epoch 11/100\n",
      "337/337 - 0s - loss: 0.5602 - mae: 0.6090 - val_loss: 0.4619 - val_mae: 0.5135\n",
      "Epoch 12/100\n",
      "337/337 - 0s - loss: 0.5317 - mae: 0.5816 - val_loss: 0.4352 - val_mae: 0.5086\n",
      "Epoch 13/100\n",
      "337/337 - 0s - loss: 0.5664 - mae: 0.6096 - val_loss: 0.4210 - val_mae: 0.5064\n",
      "Epoch 14/100\n",
      "337/337 - 0s - loss: 0.5233 - mae: 0.5765 - val_loss: 0.4150 - val_mae: 0.5013\n",
      "Epoch 15/100\n",
      "337/337 - 0s - loss: 0.5329 - mae: 0.5917 - val_loss: 0.4282 - val_mae: 0.5014\n",
      "Epoch 16/100\n",
      "337/337 - 0s - loss: 0.5513 - mae: 0.5946 - val_loss: 0.4377 - val_mae: 0.5066\n",
      "Epoch 17/100\n",
      "337/337 - 0s - loss: 0.5460 - mae: 0.5943 - val_loss: 0.4239 - val_mae: 0.4964\n",
      "Epoch 18/100\n",
      "337/337 - 0s - loss: 0.5104 - mae: 0.5624 - val_loss: 0.4286 - val_mae: 0.4961\n",
      "Epoch 19/100\n",
      "337/337 - 0s - loss: 0.5499 - mae: 0.6099 - val_loss: 0.4248 - val_mae: 0.5095\n",
      "Epoch 20/100\n",
      "337/337 - 0s - loss: 0.5277 - mae: 0.5893 - val_loss: 0.4356 - val_mae: 0.4881\n",
      "Epoch 21/100\n",
      "337/337 - 0s - loss: 0.5187 - mae: 0.5755 - val_loss: 0.4223 - val_mae: 0.5030\n",
      "Epoch 22/100\n",
      "337/337 - 0s - loss: 0.5194 - mae: 0.5778 - val_loss: 0.4309 - val_mae: 0.4967\n",
      "Epoch 23/100\n",
      "337/337 - 0s - loss: 0.5190 - mae: 0.5831 - val_loss: 0.4250 - val_mae: 0.4969\n",
      "Epoch 24/100\n",
      "337/337 - 0s - loss: 0.5189 - mae: 0.5816 - val_loss: 0.4342 - val_mae: 0.4873\n",
      "Epoch 25/100\n",
      "337/337 - 0s - loss: 0.4886 - mae: 0.5492 - val_loss: 0.4398 - val_mae: 0.4956\n",
      "Epoch 26/100\n",
      "337/337 - 0s - loss: 0.5115 - mae: 0.5652 - val_loss: 0.4460 - val_mae: 0.5050\n",
      "Epoch 27/100\n",
      "337/337 - 0s - loss: 0.4905 - mae: 0.5596 - val_loss: 0.4483 - val_mae: 0.5042\n",
      "Epoch 28/100\n",
      "337/337 - 0s - loss: 0.4662 - mae: 0.5475 - val_loss: 0.4503 - val_mae: 0.4963\n",
      "Epoch 29/100\n",
      "337/337 - 0s - loss: 0.4838 - mae: 0.5475 - val_loss: 0.4626 - val_mae: 0.4862\n",
      "Epoch 30/100\n",
      "337/337 - 0s - loss: 0.5109 - mae: 0.5651 - val_loss: 0.4483 - val_mae: 0.4857\n",
      "Epoch 31/100\n",
      "337/337 - 0s - loss: 0.4472 - mae: 0.5293 - val_loss: 0.4340 - val_mae: 0.4885\n",
      "Epoch 32/100\n",
      "337/337 - 0s - loss: 0.4608 - mae: 0.5385 - val_loss: 0.4480 - val_mae: 0.4902\n",
      "Epoch 33/100\n",
      "337/337 - 0s - loss: 0.4633 - mae: 0.5324 - val_loss: 0.4423 - val_mae: 0.4874\n",
      "Epoch 34/100\n",
      "337/337 - 0s - loss: 0.4800 - mae: 0.5509 - val_loss: 0.4481 - val_mae: 0.4886\n",
      "Epoch 35/100\n",
      "337/337 - 0s - loss: 0.4890 - mae: 0.5531 - val_loss: 0.4552 - val_mae: 0.5003\n",
      "Epoch 36/100\n",
      "337/337 - 0s - loss: 0.4631 - mae: 0.5352 - val_loss: 0.4600 - val_mae: 0.5153\n",
      "Epoch 37/100\n",
      "337/337 - 0s - loss: 0.4644 - mae: 0.5422 - val_loss: 0.4603 - val_mae: 0.4924\n",
      "Epoch 38/100\n",
      "337/337 - 0s - loss: 0.4972 - mae: 0.5534 - val_loss: 0.4598 - val_mae: 0.4881\n",
      "Epoch 39/100\n",
      "337/337 - 0s - loss: 0.4688 - mae: 0.5435 - val_loss: 0.4557 - val_mae: 0.5158\n",
      "Epoch 40/100\n",
      "337/337 - 0s - loss: 0.4571 - mae: 0.5417 - val_loss: 0.4626 - val_mae: 0.4900\n",
      "Epoch 41/100\n",
      "337/337 - 0s - loss: 0.4480 - mae: 0.5467 - val_loss: 0.4618 - val_mae: 0.4992\n",
      "Epoch 42/100\n",
      "337/337 - 0s - loss: 0.4375 - mae: 0.5240 - val_loss: 0.4859 - val_mae: 0.5013\n",
      "Epoch 43/100\n",
      "337/337 - 0s - loss: 0.4695 - mae: 0.5399 - val_loss: 0.4724 - val_mae: 0.5099\n",
      "Epoch 44/100\n",
      "337/337 - 0s - loss: 0.4593 - mae: 0.5353 - val_loss: 0.4749 - val_mae: 0.5027\n",
      "Epoch 45/100\n",
      "337/337 - 0s - loss: 0.4423 - mae: 0.5230 - val_loss: 0.4840 - val_mae: 0.5086\n",
      "Epoch 46/100\n",
      "337/337 - 0s - loss: 0.4644 - mae: 0.5470 - val_loss: 0.4700 - val_mae: 0.5100\n",
      "Epoch 47/100\n",
      "337/337 - 0s - loss: 0.4375 - mae: 0.5209 - val_loss: 0.4746 - val_mae: 0.5183\n",
      "Epoch 48/100\n",
      "337/337 - 0s - loss: 0.4296 - mae: 0.5211 - val_loss: 0.4849 - val_mae: 0.5279\n",
      "Epoch 49/100\n",
      "337/337 - 0s - loss: 0.4313 - mae: 0.5258 - val_loss: 0.4960 - val_mae: 0.5056\n",
      "Epoch 50/100\n",
      "337/337 - 0s - loss: 0.4355 - mae: 0.5093 - val_loss: 0.4920 - val_mae: 0.5349\n",
      "Epoch 51/100\n",
      "337/337 - 0s - loss: 0.4332 - mae: 0.5269 - val_loss: 0.4850 - val_mae: 0.5142\n",
      "Epoch 52/100\n",
      "337/337 - 0s - loss: 0.4485 - mae: 0.5407 - val_loss: 0.4969 - val_mae: 0.5250\n",
      "Epoch 53/100\n",
      "337/337 - 0s - loss: 0.4048 - mae: 0.5037 - val_loss: 0.5244 - val_mae: 0.5232\n",
      "Epoch 54/100\n",
      "337/337 - 0s - loss: 0.4191 - mae: 0.5052 - val_loss: 0.5242 - val_mae: 0.5250\n",
      "Epoch 55/100\n",
      "337/337 - 0s - loss: 0.4122 - mae: 0.5060 - val_loss: 0.4863 - val_mae: 0.5209\n",
      "Epoch 56/100\n",
      "337/337 - 0s - loss: 0.4364 - mae: 0.5255 - val_loss: 0.4763 - val_mae: 0.5135\n",
      "Epoch 57/100\n",
      "337/337 - 0s - loss: 0.3843 - mae: 0.4825 - val_loss: 0.4782 - val_mae: 0.5086\n",
      "Epoch 58/100\n",
      "337/337 - 0s - loss: 0.4203 - mae: 0.5028 - val_loss: 0.4982 - val_mae: 0.5229\n",
      "Epoch 59/100\n",
      "337/337 - 0s - loss: 0.4170 - mae: 0.5079 - val_loss: 0.4661 - val_mae: 0.5093\n",
      "Epoch 60/100\n",
      "337/337 - 0s - loss: 0.4124 - mae: 0.5133 - val_loss: 0.4802 - val_mae: 0.5069\n",
      "Epoch 61/100\n",
      "337/337 - 0s - loss: 0.3973 - mae: 0.5017 - val_loss: 0.5267 - val_mae: 0.5435\n",
      "Epoch 62/100\n",
      "337/337 - 0s - loss: 0.4715 - mae: 0.5407 - val_loss: 0.5255 - val_mae: 0.5356\n",
      "Epoch 63/100\n",
      "337/337 - 0s - loss: 0.3929 - mae: 0.4950 - val_loss: 0.4951 - val_mae: 0.5243\n",
      "Epoch 64/100\n",
      "337/337 - 0s - loss: 0.4039 - mae: 0.5107 - val_loss: 0.5093 - val_mae: 0.5400\n",
      "Epoch 65/100\n",
      "337/337 - 0s - loss: 0.3813 - mae: 0.4831 - val_loss: 0.5468 - val_mae: 0.5514\n",
      "Epoch 66/100\n",
      "337/337 - 0s - loss: 0.4307 - mae: 0.5243 - val_loss: 0.5303 - val_mae: 0.5287\n",
      "Epoch 67/100\n",
      "337/337 - 0s - loss: 0.4285 - mae: 0.5120 - val_loss: 0.4943 - val_mae: 0.5269\n",
      "Epoch 68/100\n",
      "337/337 - 0s - loss: 0.3991 - mae: 0.5099 - val_loss: 0.5100 - val_mae: 0.5464\n",
      "Epoch 69/100\n",
      "337/337 - 0s - loss: 0.4286 - mae: 0.5224 - val_loss: 0.4965 - val_mae: 0.5249\n",
      "Epoch 70/100\n",
      "337/337 - 0s - loss: 0.3941 - mae: 0.4914 - val_loss: 0.5215 - val_mae: 0.5340\n",
      "Epoch 71/100\n",
      "337/337 - 0s - loss: 0.3900 - mae: 0.4867 - val_loss: 0.5179 - val_mae: 0.5212\n",
      "Epoch 72/100\n",
      "337/337 - 0s - loss: 0.4058 - mae: 0.5064 - val_loss: 0.5233 - val_mae: 0.5429\n",
      "Epoch 73/100\n",
      "337/337 - 0s - loss: 0.3662 - mae: 0.4865 - val_loss: 0.5151 - val_mae: 0.5117\n",
      "Epoch 74/100\n",
      "337/337 - 0s - loss: 0.4246 - mae: 0.5149 - val_loss: 0.5070 - val_mae: 0.5238\n",
      "Epoch 75/100\n",
      "337/337 - 0s - loss: 0.3609 - mae: 0.4755 - val_loss: 0.5091 - val_mae: 0.5372\n",
      "Epoch 76/100\n",
      "337/337 - 0s - loss: 0.3918 - mae: 0.4946 - val_loss: 0.4874 - val_mae: 0.5131\n",
      "Epoch 77/100\n",
      "337/337 - 0s - loss: 0.4073 - mae: 0.4996 - val_loss: 0.5162 - val_mae: 0.5519\n",
      "Epoch 78/100\n",
      "337/337 - 0s - loss: 0.4252 - mae: 0.5237 - val_loss: 0.5033 - val_mae: 0.5279\n",
      "Epoch 79/100\n",
      "337/337 - 0s - loss: 0.4018 - mae: 0.4968 - val_loss: 0.5425 - val_mae: 0.5576\n",
      "Epoch 80/100\n",
      "337/337 - 0s - loss: 0.3960 - mae: 0.4989 - val_loss: 0.5098 - val_mae: 0.5248\n",
      "Epoch 81/100\n",
      "337/337 - 0s - loss: 0.4174 - mae: 0.5146 - val_loss: 0.5086 - val_mae: 0.5415\n",
      "Epoch 82/100\n",
      "337/337 - 0s - loss: 0.3672 - mae: 0.4851 - val_loss: 0.5414 - val_mae: 0.5484\n",
      "Epoch 83/100\n",
      "337/337 - 0s - loss: 0.3655 - mae: 0.4756 - val_loss: 0.5035 - val_mae: 0.5141\n",
      "Epoch 84/100\n",
      "337/337 - 0s - loss: 0.3434 - mae: 0.4620 - val_loss: 0.5306 - val_mae: 0.5491\n",
      "Epoch 85/100\n",
      "337/337 - 0s - loss: 0.4281 - mae: 0.5026 - val_loss: 0.5064 - val_mae: 0.5175\n",
      "Epoch 86/100\n",
      "337/337 - 0s - loss: 0.3692 - mae: 0.4817 - val_loss: 0.5153 - val_mae: 0.5333\n",
      "Epoch 87/100\n",
      "337/337 - 0s - loss: 0.3739 - mae: 0.4768 - val_loss: 0.5363 - val_mae: 0.5478\n",
      "Epoch 88/100\n",
      "337/337 - 0s - loss: 0.3669 - mae: 0.4679 - val_loss: 0.5466 - val_mae: 0.5513\n",
      "Epoch 89/100\n",
      "337/337 - 0s - loss: 0.3813 - mae: 0.4885 - val_loss: 0.5080 - val_mae: 0.5301\n",
      "Epoch 90/100\n",
      "337/337 - 0s - loss: 0.3786 - mae: 0.4875 - val_loss: 0.5361 - val_mae: 0.5458\n",
      "Epoch 91/100\n",
      "337/337 - 0s - loss: 0.3642 - mae: 0.4774 - val_loss: 0.5360 - val_mae: 0.5388\n",
      "Epoch 92/100\n",
      "337/337 - 0s - loss: 0.3600 - mae: 0.4782 - val_loss: 0.5404 - val_mae: 0.5468\n",
      "Epoch 93/100\n",
      "337/337 - 0s - loss: 0.3595 - mae: 0.4763 - val_loss: 0.5451 - val_mae: 0.5581\n",
      "Epoch 94/100\n",
      "337/337 - 0s - loss: 0.3727 - mae: 0.4774 - val_loss: 0.5344 - val_mae: 0.5452\n",
      "Epoch 95/100\n",
      "337/337 - 0s - loss: 0.3629 - mae: 0.4700 - val_loss: 0.5426 - val_mae: 0.5473\n",
      "Epoch 96/100\n",
      "337/337 - 0s - loss: 0.3673 - mae: 0.4777 - val_loss: 0.5531 - val_mae: 0.5591\n",
      "Epoch 97/100\n",
      "337/337 - 0s - loss: 0.3825 - mae: 0.4786 - val_loss: 0.5449 - val_mae: 0.5494\n",
      "Epoch 98/100\n",
      "337/337 - 0s - loss: 0.3427 - mae: 0.4505 - val_loss: 0.5333 - val_mae: 0.5353\n",
      "Epoch 99/100\n",
      "337/337 - 0s - loss: 0.3786 - mae: 0.4853 - val_loss: 0.5334 - val_mae: 0.5335\n",
      "Epoch 100/100\n",
      "337/337 - 0s - loss: 0.3565 - mae: 0.4609 - val_loss: 0.5431 - val_mae: 0.5449\n"
     ]
    }
   ],
   "source": [
    "# Train the model, with some of the data reserved for validation\n",
    "\n",
    "history = model.fit(train_data,train_targets,validation_split=0.15 , epochs=100,batch_size=64,verbose=2)"
   ]
  },
  {
   "cell_type": "code",
   "execution_count": 19,
   "metadata": {},
   "outputs": [
    {
     "name": "stdout",
     "output_type": "stream",
     "text": [
      "45/1 - 0s - loss: 0.5869 - mae: 0.6058\n"
     ]
    },
    {
     "data": {
      "text/plain": [
       "[0.6289261168903775, 0.60576284]"
      ]
     },
     "execution_count": 19,
     "metadata": {},
     "output_type": "execute_result"
    }
   ],
   "source": [
    "# Evaluate the model on the test set\n",
    "model.evaluate(test_data,test_targets,verbose=2)\n"
   ]
  },
  {
   "cell_type": "markdown",
   "metadata": {},
   "source": [
    "#### Plot the learning curves"
   ]
  },
  {
   "cell_type": "code",
   "execution_count": 20,
   "metadata": {},
   "outputs": [
    {
     "data": {
      "image/png": "[encoded data removed]",
      "text/plain": [
       "<Figure size 432x288 with 1 Axes>"
      ]
     },
     "metadata": {
      "needs_background": "light"
     },
     "output_type": "display_data"
    }
   ],
   "source": [
    "# Plot the training and validation loss\n",
    "\n",
    "import matplotlib.pyplot as plt\n",
    "\n",
    "plt.plot(history.history['loss'])\n",
    "plt.plot(history.history['val_loss'])\n",
    "plt.title('Loss vs. epochs')\n",
    "plt.ylabel('Loss')\n",
    "plt.xlabel('Epoch')\n",
    "plt.legend(['Training', 'Validation'], loc='upper right')\n",
    "plt.show()"
   ]
  },
  {
   "cell_type": "markdown",
   "metadata": {},
   "source": [
    "***\n",
    "<a id=\"coding_tutorial_3\"></a>\n",
    "## Introduction to callbacks"
   ]
  },
  {
   "cell_type": "markdown",
   "metadata": {},
   "source": [
    "#### Example training callback"
   ]
  },
  {
   "cell_type": "code",
   "execution_count": 16,
   "metadata": {},
   "outputs": [],
   "source": [
    "# Write a custom callback\n",
    "\n",
    "from tensorflow.keras.callbacks import Callback\n",
    "\n",
    "class predictingCallback(Callback):\n",
    "    \n",
    "    def on_predict_begin(self, logs=None):\n",
    "        print(\"starting predecting ......\")\n",
    "    \n",
    "   # def on_epoch_begin(self, epoch, logs=None):\n",
    "           # print(f\"starting epoch{epoch}\")\n",
    "    \n",
    "    def on_predict_batch_begin(self, batch, logs=None):\n",
    "        print(f\"test: Starting batch {batch}\")\n",
    "    \n",
    "    def on_predict_batch_end(self, batch, logs=None):\n",
    "        print(f\"ttest: finished batch {batch}\")\n",
    "    \n",
    "  #  def on_epoch_end(self, epoch, logs=None):\n",
    "          #  print(f\"finished epoch{epoch}\")\n",
    "    \n",
    "    def on_predict_end(self, logs=None):\n",
    "        print(\"finished predecting ......\")\n",
    "    "
   ]
  },
  {
   "cell_type": "code",
   "execution_count": 22,
   "metadata": {},
   "outputs": [],
   "source": [
    "# Re-build the model\n",
    "model=get_regularised_model(1e-5, 0.3)"
   ]
  },
  {
   "cell_type": "code",
   "execution_count": 23,
   "metadata": {},
   "outputs": [],
   "source": [
    "# Compile the model\n",
    "model.compile(optimizer=\"adam\", loss=\"mse\")\n"
   ]
  },
  {
   "cell_type": "markdown",
   "metadata": {},
   "source": [
    "#### Train the model with the callback"
   ]
  },
  {
   "cell_type": "code",
   "execution_count": 26,
   "metadata": {},
   "outputs": [
    {
     "name": "stdout",
     "output_type": "stream",
     "text": [
      "Train on 337 samples, validate on 60 samples\n",
      "Epoch 1/3\n",
      "337/337 - 0s - loss: 0.9978 - val_loss: 0.9345\n",
      "Epoch 2/3\n",
      "337/337 - 0s - loss: 0.9674 - val_loss: 0.8826\n",
      "Epoch 3/3\n",
      "337/337 - 0s - loss: 0.9291 - val_loss: 0.8055\n"
     ]
    },
    {
     "data": {
      "text/plain": [
       "<tensorflow.python.keras.callbacks.History at 0x7fe340051908>"
      ]
     },
     "execution_count": 26,
     "metadata": {},
     "output_type": "execute_result"
    }
   ],
   "source": [
    "# Train the model, with some of the data reserved for validation\n",
    "model.fit(train_data, train_targets,  epochs=3,  batch_size=128,verbose=2, validation_split=0.15)\n",
    "\n"
   ]
  },
  {
   "cell_type": "code",
   "execution_count": 28,
   "metadata": {},
   "outputs": [
    {
     "name": "stdout",
     "output_type": "stream",
     "text": [
      "starting testing ......\n",
      "test: Starting batch 0\n",
      "ttest: finished batch 0\n",
      "test: Starting batch 1\n",
      "ttest: finished batch 1\n",
      "45/1 - 0s - loss: 0.6136\n",
      "finished testing ......\n"
     ]
    },
    {
     "data": {
      "text/plain": [
       "0.7922925465636783"
      ]
     },
     "execution_count": 28,
     "metadata": {},
     "output_type": "execute_result"
    }
   ],
   "source": [
    "# Evaluate the model\n",
    "\n",
    "model.evaluate(test_data,test_targets,verbose=2,callbacks=[TestingCallback()])"
   ]
  },
  {
   "cell_type": "code",
   "execution_count": 30,
   "metadata": {},
   "outputs": [
    {
     "name": "stdout",
     "output_type": "stream",
     "text": [
      "starting predecting ......\n",
      "test: Starting batch 0\n",
      "ttest: finished batch 0\n",
      "test: Starting batch 1\n",
      "ttest: finished batch 1\n",
      "45/1 - 0s\n",
      "finished predecting ......\n"
     ]
    },
    {
     "data": {
      "text/plain": [
       "array([[-0.20015794],\n",
       "       [ 0.10812788],\n",
       "       [ 0.05109603],\n",
       "       [ 0.05818227],\n",
       "       [-0.22205491],\n",
       "       [-0.30605188],\n",
       "       [ 0.07365204],\n",
       "       [-0.01056477],\n",
       "       [ 0.08863381],\n",
       "       [-0.284684  ],\n",
       "       [ 0.109022  ],\n",
       "       [-0.12705189],\n",
       "       [ 0.12238701],\n",
       "       [ 0.1161157 ],\n",
       "       [ 0.09697258],\n",
       "       [-0.32015845],\n",
       "       [-0.31700027],\n",
       "       [ 0.09725498],\n",
       "       [-0.17022815],\n",
       "       [ 0.08964396],\n",
       "       [ 0.06366467],\n",
       "       [-0.29445204],\n",
       "       [ 0.00048639],\n",
       "       [-0.33243507],\n",
       "       [ 0.11046016],\n",
       "       [-0.28976429],\n",
       "       [ 0.00059629],\n",
       "       [ 0.08803739],\n",
       "       [-0.09109333],\n",
       "       [-0.11860383],\n",
       "       [-0.2113391 ],\n",
       "       [ 0.10287982],\n",
       "       [-0.34174654],\n",
       "       [-0.00114401],\n",
       "       [-0.184815  ],\n",
       "       [ 0.08659374],\n",
       "       [-0.09412032],\n",
       "       [ 0.06894442],\n",
       "       [-0.24045213],\n",
       "       [-0.31625602],\n",
       "       [-0.26839584],\n",
       "       [-0.22042109],\n",
       "       [-0.280349  ],\n",
       "       [-0.3562369 ],\n",
       "       [ 0.1061608 ]], dtype=float32)"
      ]
     },
     "execution_count": 30,
     "metadata": {},
     "output_type": "execute_result"
    }
   ],
   "source": [
    "# Make predictions with the model\n",
    "\n",
    "model.predict(test_data,verbose=2,callbacks=[predictingCallback()])"
   ]
  },
  {
   "cell_type": "markdown",
   "metadata": {},
   "source": [
    "***\n",
    "<a id=\"coding_tutorial_4\"></a>\n",
    "## Early stopping / patience"
   ]
  },
  {
   "cell_type": "markdown",
   "metadata": {},
   "source": [
    "#### Re-train the models with early stopping"
   ]
  },
  {
   "cell_type": "code",
   "execution_count": 38,
   "metadata": {},
   "outputs": [
    {
     "name": "stdout",
     "output_type": "stream",
     "text": [
      "Train on 337 samples, validate on 60 samples\n",
      "Epoch 1/100\n",
      "337/337 - 1s - loss: 0.9401 - val_loss: 0.9142\n",
      "Epoch 2/100\n",
      "337/337 - 0s - loss: 0.8639 - val_loss: 0.7607\n",
      "Epoch 3/100\n",
      "337/337 - 0s - loss: 0.6915 - val_loss: 0.5567\n",
      "Epoch 4/100\n",
      "337/337 - 0s - loss: 0.5639 - val_loss: 0.5320\n",
      "Epoch 5/100\n",
      "337/337 - 0s - loss: 0.5322 - val_loss: 0.4145\n",
      "Epoch 6/100\n",
      "337/337 - 0s - loss: 0.4988 - val_loss: 0.4033\n",
      "Epoch 7/100\n",
      "337/337 - 0s - loss: 0.4617 - val_loss: 0.4243\n",
      "Epoch 8/100\n",
      "337/337 - 0s - loss: 0.5076 - val_loss: 0.4208\n"
     ]
    }
   ],
   "source": [
    "# Re-train the unregularised model\n",
    "unregularised_model = get_model()\n",
    "unregularised_model.compile(optimizer=\"adam\", loss=\"mse\")\n",
    "unreg_history= unregularised_model.fit(train_data,train_targets,\n",
    "                                               verbose=2,epochs=100,\n",
    "                                               validation_split=0.15,\n",
    "                                               batch_size=64,\n",
    "                                               callbacks=[tf.keras.callbacks.EarlyStopping(patience=2)])"
   ]
  },
  {
   "cell_type": "code",
   "execution_count": 39,
   "metadata": {},
   "outputs": [
    {
     "name": "stdout",
     "output_type": "stream",
     "text": [
      "45/1 - 0s - loss: 0.8587\n"
     ]
    },
    {
     "data": {
      "text/plain": [
       "0.6379587915208604"
      ]
     },
     "execution_count": 39,
     "metadata": {},
     "output_type": "execute_result"
    }
   ],
   "source": [
    "# Evaluate the model on the test set\n",
    "\n",
    "unregularised_model.evaluate(test_data,test_targets,verbose=2)"
   ]
  },
  {
   "cell_type": "code",
   "execution_count": 40,
   "metadata": {},
   "outputs": [
    {
     "name": "stdout",
     "output_type": "stream",
     "text": [
      "Train on 337 samples, validate on 60 samples\n",
      "Epoch 1/100\n",
      "337/337 - 2s - loss: 0.9461 - val_loss: 0.9478\n",
      "Epoch 2/100\n",
      "337/337 - 0s - loss: 0.9076 - val_loss: 0.8568\n",
      "Epoch 3/100\n",
      "337/337 - 0s - loss: 0.8139 - val_loss: 0.7074\n",
      "Epoch 4/100\n",
      "337/337 - 0s - loss: 0.6838 - val_loss: 0.6341\n",
      "Epoch 5/100\n",
      "337/337 - 0s - loss: 0.6459 - val_loss: 0.5605\n",
      "Epoch 6/100\n",
      "337/337 - 0s - loss: 0.5846 - val_loss: 0.4541\n",
      "Epoch 7/100\n",
      "337/337 - 0s - loss: 0.5344 - val_loss: 0.4205\n",
      "Epoch 8/100\n",
      "337/337 - 0s - loss: 0.5453 - val_loss: 0.4007\n",
      "Epoch 9/100\n",
      "337/337 - 0s - loss: 0.5175 - val_loss: 0.3968\n",
      "Epoch 10/100\n",
      "337/337 - 0s - loss: 0.5360 - val_loss: 0.3990\n",
      "Epoch 11/100\n",
      "337/337 - 0s - loss: 0.5060 - val_loss: 0.3857\n",
      "Epoch 12/100\n",
      "337/337 - 0s - loss: 0.4915 - val_loss: 0.3868\n",
      "Epoch 13/100\n",
      "337/337 - 0s - loss: 0.4835 - val_loss: 0.3956\n"
     ]
    }
   ],
   "source": [
    "# Re-train the regularised model\n",
    "regularised_model=get_regularised_model(1e-8,0.2)\n",
    "regularised_model.compile(optimizer=\"adam\", loss=\"mse\")\n",
    "reg_history= regularised_model.fit(train_data,train_targets,\n",
    "                                               verbose=2,epochs=100,\n",
    "                                               validation_split=0.15,\n",
    "                                               batch_size=64,\n",
    "                                               callbacks=[tf.keras.callbacks.EarlyStopping(patience=2)])\n"
   ]
  },
  {
   "cell_type": "code",
   "execution_count": 41,
   "metadata": {},
   "outputs": [
    {
     "name": "stdout",
     "output_type": "stream",
     "text": [
      "45/1 - 0s - loss: 0.8350\n"
     ]
    },
    {
     "data": {
      "text/plain": [
       "0.6470691363016764"
      ]
     },
     "execution_count": 41,
     "metadata": {},
     "output_type": "execute_result"
    }
   ],
   "source": [
    "# Evaluate the model on the test set\n",
    "regularised_model.evaluate(test_data,test_targets,verbose=2)\n"
   ]
  },
  {
   "cell_type": "markdown",
   "metadata": {},
   "source": [
    "#### Plot the learning curves"
   ]
  },
  {
   "cell_type": "code",
   "execution_count": 42,
   "metadata": {},
   "outputs": [
    {
     "data": {
      "image/png": "[encoded data removed]",
      "text/plain": [
       "<Figure size 864x360 with 2 Axes>"
      ]
     },
     "metadata": {
      "needs_background": "light"
     },
     "output_type": "display_data"
    }
   ],
   "source": [
    "# Plot the training and validation loss\n",
    "\n",
    "import matplotlib.pyplot as plt\n",
    "\n",
    "fig = plt.figure(figsize=(12, 5))\n",
    "\n",
    "fig.add_subplot(121)\n",
    "\n",
    "plt.plot(unreg_history.history['loss'])\n",
    "plt.plot(unreg_history.history['val_loss'])\n",
    "plt.title('Unregularised model: loss vs. epochs')\n",
    "plt.ylabel('Loss')\n",
    "plt.xlabel('Epoch')\n",
    "plt.legend(['Training', 'Validation'], loc='upper right')\n",
    "\n",
    "fig.add_subplot(122)\n",
    "\n",
    "plt.plot(reg_history.history['loss'])\n",
    "plt.plot(reg_history.history['val_loss'])\n",
    "plt.title('Regularised model: loss vs. epochs')\n",
    "plt.ylabel('Loss')\n",
    "plt.xlabel('Epoch')\n",
    "plt.legend(['Training', 'Validation'], loc='upper right')\n",
    "\n",
    "plt.show()"
   ]
  },
  {
   "cell_type": "code",
   "execution_count": null,
   "metadata": {},
   "outputs": [],
   "source": []
  }
 ],
 "metadata": {
  "kernelspec": {
   "display_name": "Python 3",
   "language": "python",
   "name": "python3"
  },
  "language_info": {
   "codemirror_mode": {
    "name": "ipython",
    "version": 3
   },
   "file_extension": ".py",
   "mimetype": "text/x-python",
   "name": "python",
   "nbconvert_exporter": "python",
   "pygments_lexer": "ipython3",
   "version": "3.7.1"
  }
 },
 "nbformat": 4,
 "nbformat_minor": 2
}
